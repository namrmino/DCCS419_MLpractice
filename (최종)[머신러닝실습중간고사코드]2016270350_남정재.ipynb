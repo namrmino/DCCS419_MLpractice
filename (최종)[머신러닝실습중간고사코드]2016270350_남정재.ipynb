{
 "cells": [
  {
   "cell_type": "markdown",
   "metadata": {},
   "source": [
    "### {머신러닝실습_중간고사대체과제} ###\n",
    "### 2016270350_남정재 ###"
   ]
  },
  {
   "cell_type": "markdown",
   "metadata": {},
   "source": [
    "## 1 - Packages & Data load code ##"
   ]
  },
  {
   "cell_type": "code",
   "execution_count": 614,
   "metadata": {},
   "outputs": [
    {
     "name": "stdout",
     "output_type": "stream",
     "text": [
      "(30, 569)\n",
      "(569,)\n"
     ]
    }
   ],
   "source": [
    "import numpy as np\n",
    "import matplotlib.pyplot as plt\n",
    "\n",
    "from sklearn import datasets  \n",
    "dataset = datasets.load_breast_cancer()  \n",
    "x_data = dataset.data.T # input data  & Transpose\n",
    "y_data = dataset.target.T # output data  & Transpose\n",
    "print(x_data.shape) #(569, 30)\n",
    "print(y_data.shape) #(569,)"
   ]
  },
  {
   "cell_type": "markdown",
   "metadata": {},
   "source": [
    "## 2 - Data set ##"
   ]
  },
  {
   "cell_type": "code",
   "execution_count": 615,
   "metadata": {},
   "outputs": [
    {
     "data": {
      "text/plain": [
       "(1, 569)"
      ]
     },
     "execution_count": 615,
     "metadata": {},
     "output_type": "execute_result"
    }
   ],
   "source": [
    "# scalar를 vector로 변환해주기위한 reshape 작업\n",
    "y_data = y_data.reshape([1,569])\n",
    "y_data.shape"
   ]
  },
  {
   "cell_type": "markdown",
   "metadata": {},
   "source": [
    "## 3 - Defining the neural network structure ##"
   ]
  },
  {
   "cell_type": "code",
   "execution_count": 616,
   "metadata": {},
   "outputs": [],
   "source": [
    "# GRADED FUNCTION: layer_sizes\n",
    "\n",
    "def layer_sizes(X, Y):\n",
    "    \"\"\"\n",
    "    Arguments:\n",
    "    X -- input dataset of shape (input size, number of examples)\n",
    "    Y -- labels of shape (output size, number of examples)\n",
    "    \n",
    "    Returns:\n",
    "    n_x -- the size of the input layer\n",
    "    n_h -- the size of the hidden layer\n",
    "    n_y -- the size of the output layer\n",
    "    \"\"\"\n",
    "    n_x = x_data.shape[0] # size of input layer\n",
    "    n_h = 4\n",
    "    n_y = y_data.shape[0] # size of output layer\n",
    "   \n",
    "    return (n_x, n_h, n_y)"
   ]
  },
  {
   "cell_type": "code",
   "execution_count": 617,
   "metadata": {},
   "outputs": [
    {
     "name": "stdout",
     "output_type": "stream",
     "text": [
      "The size of the input layer is: n_x = 30\n",
      "The size of the hidden layer is: n_h = 4\n",
      "The size of the output layer is: n_y = 1\n"
     ]
    }
   ],
   "source": [
    "np.random.seed(1)\n",
    "(n_x, n_h, n_y) = layer_sizes(x_data, y_data)\n",
    "print(\"The size of the input layer is: n_x = \" + str(n_x))\n",
    "print(\"The size of the hidden layer is: n_h = \" + str(n_h))\n",
    "print(\"The size of the output layer is: n_y = \" + str(n_y))"
   ]
  },
  {
   "cell_type": "markdown",
   "metadata": {},
   "source": [
    "## 4 - Initialize the model's parameters ##"
   ]
  },
  {
   "cell_type": "code",
   "execution_count": 618,
   "metadata": {},
   "outputs": [],
   "source": [
    "# GRADED FUNCTION: initialize_parameters\n",
    "\n",
    "def initialize_parameters(n_x, n_h, n_y):\n",
    "    \"\"\"\n",
    "    Argument:\n",
    "    n_x -- size of the input layer\n",
    "    n_h -- size of the hidden layer\n",
    "    n_y -- size of the output layer\n",
    "    \n",
    "    Returns:\n",
    "    params -- python dictionary containing your parameters:\n",
    "                    W1 -- weight matrix of shape (n_h, n_x)\n",
    "                    b1 -- bias vector of shape (n_h, 1)\n",
    "                    W2 -- weight matrix of shape (n_y, n_h)\n",
    "                    b2 -- bias vector of shape (n_y, 1)\n",
    "    \"\"\"\n",
    "    np.random.seed(2) # we set up a seed so that your output matches ours although the initialization is random.\n",
    "    \n",
    "  \n",
    "    W1 = np.random.randn(n_h, n_x)* 0.01\n",
    "    b1 = np.zeros((n_h, 1))\n",
    "    W2 = np.random.randn(n_y, n_h)* 0.01\n",
    "    b2 = np.zeros((n_y, 1))\n",
    "    \n",
    "    \n",
    "    assert (W1.shape == (n_h, n_x))\n",
    "    assert (b1.shape == (n_h, 1))\n",
    "    assert (W2.shape == (n_y, n_h))\n",
    "    assert (b2.shape == (n_y, 1))\n",
    "    \n",
    "    parameters = {\"W1\": W1,\n",
    "                  \"b1\": b1,\n",
    "                  \"W2\": W2,\n",
    "                  \"b2\": b2}\n",
    "    \n",
    "    return parameters"
   ]
  },
  {
   "cell_type": "code",
   "execution_count": 619,
   "metadata": {},
   "outputs": [
    {
     "name": "stdout",
     "output_type": "stream",
     "text": [
      "W1 = [[-4.16757847e-03 -5.62668272e-04 -2.13619610e-02  1.64027081e-02\n",
      "  -1.79343559e-02 -8.41747366e-03  5.02881417e-03 -1.24528809e-02\n",
      "  -1.05795222e-02 -9.09007615e-03  5.51454045e-03  2.29220801e-02\n",
      "   4.15393930e-04 -1.11792545e-02  5.39058321e-03 -5.96159700e-03\n",
      "  -1.91304965e-04  1.17500122e-02 -7.47870949e-03  9.02525097e-05\n",
      "  -8.78107893e-03 -1.56434170e-03  2.56570452e-03 -9.88779049e-03\n",
      "  -3.38821966e-03 -2.36184031e-03 -6.37655012e-03 -1.18761229e-02\n",
      "  -1.42121723e-02 -1.53495196e-03]\n",
      " [-2.69056960e-03  2.23136679e-02 -2.43476758e-02  1.12726505e-03\n",
      "   3.70444537e-03  1.35963386e-02  5.01857207e-03 -8.44213704e-03\n",
      "   9.76147160e-08  5.42352572e-03 -3.13508197e-03  7.71011738e-03\n",
      "  -1.86809065e-02  1.73118467e-02  1.46767801e-02 -3.35677339e-03\n",
      "   6.11340780e-03  4.79705919e-04 -8.29135289e-03  8.77102184e-04\n",
      "   1.00036589e-02 -3.81092518e-03 -3.75669423e-03 -7.44707629e-04\n",
      "   4.33496330e-03  1.27837923e-02 -6.34679305e-03  5.08396243e-03\n",
      "   2.16116006e-03 -1.85861239e-02]\n",
      " [-4.19316482e-03 -1.32328898e-03 -3.95702397e-04  3.26003433e-03\n",
      "  -2.04032305e-02  4.62555231e-04 -6.77675577e-03 -1.43943903e-02\n",
      "   5.24296430e-03  7.35279576e-03 -6.53250268e-03  8.42456282e-03\n",
      "  -3.81516482e-03  6.64890091e-04 -1.09873895e-02  1.58448706e-02\n",
      "  -2.65944946e-02 -9.14526229e-04  6.95119605e-03 -2.03346655e-02\n",
      "  -1.89469265e-03 -7.72186654e-04  8.24703005e-03  1.24821292e-02\n",
      "  -4.03892269e-03 -1.38451867e-02  1.36723542e-02  1.21788563e-02\n",
      "  -4.62005348e-03  3.50888494e-03]\n",
      " [ 3.81866234e-03  5.66275441e-03  2.04207979e-03  1.40669624e-02\n",
      "  -1.73795950e-02  1.04082395e-02  3.80471970e-03 -2.17135269e-03\n",
      "   1.17353150e-02 -2.34360319e-02  1.16152149e-02  3.86078048e-03\n",
      "  -1.13313327e-02  4.33092555e-03 -3.04086439e-03  2.58529487e-02\n",
      "   1.83533272e-02  4.40689872e-03 -7.19253841e-03 -5.83414595e-03\n",
      "  -3.25049628e-03 -5.60234506e-03 -9.02246068e-03 -5.90972275e-03\n",
      "  -2.76179492e-03 -5.16883894e-03 -6.98589950e-03 -9.28891925e-03\n",
      "   2.55043824e-02 -1.47317325e-02]]\n",
      "b1 = [[0.]\n",
      " [0.]\n",
      " [0.]\n",
      " [0.]]\n",
      "W2 = [[-0.01021415  0.00432396 -0.0032358   0.00423825]]\n",
      "b2 = [[0.]]\n"
     ]
    }
   ],
   "source": [
    "parameters = initialize_parameters(n_x, n_h, n_y)\n",
    "print(\"W1 = \" + str(parameters[\"W1\"]))\n",
    "print(\"b1 = \" + str(parameters[\"b1\"]))\n",
    "print(\"W2 = \" + str(parameters[\"W2\"]))\n",
    "print(\"b2 = \" + str(parameters[\"b2\"]))"
   ]
  },
  {
   "cell_type": "markdown",
   "metadata": {},
   "source": [
    "## 5 - Loop ##\n",
    "## 5-1 - Implement forward propagation ##"
   ]
  },
  {
   "cell_type": "code",
   "execution_count": 620,
   "metadata": {},
   "outputs": [],
   "source": [
    "# ReLU 함수 정의\n",
    "\n",
    "def relu(x):\n",
    "\treturn np.maximum(0, x)\n",
    "\n",
    "# sigmoid 함수 정의\n",
    "\n",
    "def sigmoid(x):\n",
    "    return 1 / (1 +np.exp(-x))\n",
    "\n",
    "# GRADED FUNCTION: forward_propagation\n",
    "\n",
    "def forward_propagation(X, parameters):\n",
    "    \"\"\"\n",
    "    Argument:\n",
    "    X -- input data of size (n_x, m)\n",
    "    parameters -- python dictionary containing your parameters (output of initialization function)\n",
    "    \n",
    "    Returns:\n",
    "    A2 -- The sigmoid output of the second activation\n",
    "    cache -- a dictionary containing \"Z1\", \"A1\", \"Z2\" and \"A2\"\n",
    "    \"\"\"\n",
    "    # Retrieve each parameter from the dictionary \"parameters\"\n",
    "   \n",
    "    W1 = parameters['W1']\n",
    "    b1 = parameters['b1']\n",
    "    W2 = parameters['W2']\n",
    "    b2 = parameters['b2']\n",
    "    \n",
    "    \n",
    "    # Implement Forward Propagation to calculate A2 (probabilities)\n",
    "  \n",
    "    Z1 = np.dot(W1,X)+b1\n",
    "    A1 = relu(Z1)\n",
    "    Z2 = np.dot(W2,A1)+b2\n",
    "    A2 = sigmoid(Z2)\n",
    "  \n",
    "    \n",
    "    assert(A2.shape == (1, X.shape[1]))\n",
    "    \n",
    "    cache = {\"Z1\": Z1,\n",
    "             \"A1\": A1,\n",
    "             \"Z2\": Z2,\n",
    "             \"A2\": A2}\n",
    "    \n",
    "    return A2, cache"
   ]
  },
  {
   "cell_type": "code",
   "execution_count": 621,
   "metadata": {},
   "outputs": [
    {
     "name": "stdout",
     "output_type": "stream",
     "text": [
      "3.855897834446589 4.384044566160961 -0.033688843562905184 0.49158008225379557\n"
     ]
    }
   ],
   "source": [
    "A2, cache = forward_propagation(x_data, parameters)\n",
    "\n",
    "# Note: we use the mean here just to make sure that your output matches ours. \n",
    "print(np.mean(cache['Z1']) ,np.mean(cache['A1']),np.mean(cache['Z2']),np.mean(cache['A2']))"
   ]
  },
  {
   "cell_type": "markdown",
   "metadata": {},
   "source": [
    "## 5-2 - Compute loss ##"
   ]
  },
  {
   "cell_type": "code",
   "execution_count": 622,
   "metadata": {},
   "outputs": [],
   "source": [
    "# GRADED FUNCTION: compute_cost\n",
    "\n",
    "def compute_cost(A2, Y, parameters):\n",
    "    \"\"\"\n",
    "    Computes the cross-entropy cost given in equation (13)\n",
    "    \n",
    "    Arguments:\n",
    "    A2 -- The sigmoid output of the second activation, of shape (1, number of examples)\n",
    "    Y -- \"true\" labels vector of shape (1, number of examples)\n",
    "    parameters -- python dictionary containing your parameters W1, b1, W2 and b2\n",
    "    \n",
    "    Returns:\n",
    "    cost -- cross-entropy cost given equation (13)\n",
    "    \"\"\"\n",
    "    \n",
    "    m = Y.shape[1] # number of example\n",
    "    \n",
    "    # Compute the cross-entropy cost\n",
    "    \n",
    "    logprobs = Y*np.log(A2)+(1.0-Y)*np.log(1-A2)\n",
    "    cost = -np.sum(logprobs)/m\n",
    "    \n",
    "    cost = np.squeeze(cost)     # makes sure cost is the dimension we expect. \n",
    "                                # E.g., turns [[17]] into 17 \n",
    "    assert(isinstance(cost, float))\n",
    "    \n",
    "    return cost"
   ]
  },
  {
   "cell_type": "code",
   "execution_count": 623,
   "metadata": {},
   "outputs": [
    {
     "name": "stdout",
     "output_type": "stream",
     "text": [
      "cost = 0.6898620896036124\n"
     ]
    }
   ],
   "source": [
    "print(\"cost = \" + str(compute_cost(A2, y_data, parameters)))"
   ]
  },
  {
   "cell_type": "markdown",
   "metadata": {},
   "source": [
    "## 5-3 - Implement backward propagation to get the gradients ##"
   ]
  },
  {
   "cell_type": "code",
   "execution_count": 624,
   "metadata": {},
   "outputs": [],
   "source": [
    "# ReLU 미분 함수 정의\n",
    "def drelu(x):\n",
    "    return np.any(x)\n",
    "\n",
    "\n",
    "# GRADED FUNCTION: backward_propagation\n",
    "\n",
    "def backward_propagation(parameters, cache, X, Y):\n",
    "    \"\"\"\n",
    "    Implement the backward propagation using the instructions above.\n",
    "    \n",
    "    Arguments:\n",
    "    parameters -- python dictionary containing our parameters \n",
    "    cache -- a dictionary containing \"Z1\", \"A1\", \"Z2\" and \"A2\".\n",
    "    X -- input data of shape (2, number of examples)\n",
    "    Y -- \"true\" labels vector of shape (1, number of examples)\n",
    "    \n",
    "    Returns:\n",
    "    grads -- python dictionary containing your gradients with respect to different parameters\n",
    "    \"\"\"\n",
    "    # Retrieve each parameter from the dictionary \"parameters\"\n",
    "   \n",
    "    W1 = parameters['W1']\n",
    "    b1 = parameters['b1']\n",
    "    W2 = parameters['W2']\n",
    "    b2 = parameters['b2']\n",
    "    \n",
    "    \n",
    "    # Implement Forward Propagation to calculate A2 (probabilities)\n",
    "  \n",
    "    Z1 = np.dot(W1,X)+b1\n",
    "    A1 = relu(Z1)\n",
    "    Z2 = np.dot(W2,A1)+b2\n",
    "    A2 = sigmoid(Z2)\n",
    "    \n",
    "    \n",
    "    m = X.shape[1]\n",
    "    \n",
    "    # First, retrieve W1 and W2 from the dictionary \"parameters\".\n",
    "   \n",
    "    W1 = parameters['W1']\n",
    "    W2 = parameters['W2']\n",
    "\n",
    "    \n",
    "    # Retrieve also A1 and A2 from dictionary \"cache\".\n",
    "   \n",
    "    A1 = cache['A1']\n",
    "    A2 = cache['A2']\n",
    "    \n",
    "\n",
    "    # Backward propagation: calculate dW1, db1, dW2, db2. \n",
    "    \n",
    "    dZ2 = A2-Y\n",
    "    dW2 = np.dot(dZ2,A1.T)/m\n",
    "    db2 = np.sum(dZ2,axis=1,keepdims=True)/m\n",
    "    # tanh대신 forward-propagation에서 relu를 사용했으므로 위에서 새로 정의한 함수인 drelu를 사용\n",
    "    dZ1 = np.dot(W2.T,dZ2)*drelu(Z1)\n",
    "    dW1 = np.dot(dZ1,X.T)/m\n",
    "    db1 = np.sum(dZ1,axis=1,keepdims=True)/m\n",
    " \n",
    "    \n",
    "    grads = {\"dW1\": dW1,\n",
    "             \"db1\": db1,\n",
    "             \"dW2\": dW2,\n",
    "             \"db2\": db2}\n",
    "    \n",
    "    return grads"
   ]
  },
  {
   "cell_type": "code",
   "execution_count": 625,
   "metadata": {},
   "outputs": [
    {
     "name": "stdout",
     "output_type": "stream",
     "text": [
      "dW1 = [[ 7.09187580e-03  1.80337348e-02  3.98382578e-02 -3.03744532e-01\n",
      "   1.08972397e-04 -9.19558405e-06 -1.47729443e-04 -7.90763796e-05\n",
      "   2.06897580e-04  8.74827600e-05 -2.02588950e-04  1.70818431e-03\n",
      "  -1.49164617e-03 -6.50792675e-02  1.07307738e-05  9.64882458e-06\n",
      "   6.76700088e-06  4.06033236e-06  2.87065730e-05  4.24299722e-06\n",
      "   4.32299919e-03  2.18896784e-02  2.08571019e-02 -8.07783751e-01\n",
      "   1.36448266e-04 -1.02170583e-04 -2.94992304e-04 -9.56191148e-05\n",
      "   2.76096903e-04  8.76921646e-05]\n",
      " [-3.00220519e-03 -7.63422453e-03 -1.68647376e-02  1.28584233e-01\n",
      "  -4.61313064e-05  3.89276842e-06  6.25383344e-05  3.34754195e-05\n",
      "  -8.75859937e-05 -3.70340942e-05  8.57620205e-05 -7.23126004e-04\n",
      "   6.31458868e-04  2.75500193e-02 -4.54266059e-06 -4.08463883e-06\n",
      "  -2.86467583e-06 -1.71886130e-06 -1.21523593e-05 -1.79618886e-06\n",
      "  -1.83005611e-03 -9.26656189e-03 -8.82944108e-03  3.41959256e-01\n",
      "  -5.77626718e-05  4.32518931e-05  1.24879151e-04  4.04784589e-05\n",
      "  -1.16880157e-04 -3.71227415e-05]\n",
      " [ 2.24667767e-03  5.71301449e-03  1.26205995e-02 -9.62250436e-02\n",
      "   3.45220161e-05 -2.91312397e-06 -4.68000921e-05 -2.50510784e-05\n",
      "   6.55443195e-05  2.77141858e-05 -6.41793629e-05  5.41145905e-04\n",
      "  -4.72547493e-04 -2.06168497e-02  3.39946588e-06  3.05670874e-06\n",
      "   2.14375861e-06  1.28629693e-06  9.09412663e-06  1.34416442e-06\n",
      "   1.36950872e-03  6.93456188e-03  6.60744581e-03 -2.55902637e-01\n",
      "   4.32262609e-05 -3.23672288e-05 -9.34523732e-05 -3.02917502e-05\n",
      "   8.74663862e-05  2.77805243e-05]\n",
      " [-2.94269517e-03 -7.48289812e-03 -1.65304430e-02  1.26035423e-01\n",
      "  -4.52168867e-05  3.81560556e-06  6.12986929e-05  3.28118662e-05\n",
      "  -8.58498549e-05 -3.63000005e-05  8.40620367e-05 -7.08792124e-04\n",
      "   6.18942024e-04  2.70039199e-02 -4.45261549e-06 -4.00367269e-06\n",
      "  -2.80789192e-06 -1.68478985e-06 -1.19114739e-05 -1.76058461e-06\n",
      "  -1.79378054e-03 -9.08287912e-03 -8.65442297e-03  3.35180904e-01\n",
      "  -5.66176940e-05  4.23945495e-05  1.22403783e-04  3.96760906e-05\n",
      "  -1.14563346e-04 -3.63868906e-05]]\n",
      "db1 = [[ 0.00138745]\n",
      " [-0.00058735]\n",
      " [ 0.00043954]\n",
      " [-0.00057571]]\n",
      "dW2 = [[-0.04153243  0.00746885  1.07900266 -0.01079176]]\n",
      "db2 = [[-0.13583644]]\n"
     ]
    }
   ],
   "source": [
    "grads = backward_propagation(parameters, cache, x_data, y_data)\n",
    "print (\"dW1 = \"+ str(grads[\"dW1\"]))\n",
    "print (\"db1 = \"+ str(grads[\"db1\"]))\n",
    "print (\"dW2 = \"+ str(grads[\"dW2\"]))\n",
    "print (\"db2 = \"+ str(grads[\"db2\"]))"
   ]
  },
  {
   "cell_type": "markdown",
   "metadata": {},
   "source": [
    "## 5-4 - Update parameters (gradient descent) ##"
   ]
  },
  {
   "cell_type": "code",
   "execution_count": 626,
   "metadata": {},
   "outputs": [],
   "source": [
    "# GRADED FUNCTION: update_parameters\n",
    "\n",
    "def update_parameters(parameters, grads, learning_rate = 0.0001):\n",
    "    \"\"\"\n",
    "    Updates parameters using the gradient descent update rule given above\n",
    "    \n",
    "    Arguments:\n",
    "    parameters -- python dictionary containing your parameters \n",
    "    grads -- python dictionary containing your gradients \n",
    "    \n",
    "    Returns:\n",
    "    parameters -- python dictionary containing your updated parameters \n",
    "    \"\"\"\n",
    "    # Retrieve each parameter from the dictionary \"parameters\"\n",
    "  \n",
    "    W1 = parameters['W1']\n",
    "    b1 = parameters['b1']\n",
    "    W2 = parameters['W2']\n",
    "    b2 = parameters['b2']\n",
    "  \n",
    "    \n",
    "    # Retrieve each gradient from the dictionary \"grads\"\n",
    "  \n",
    "    dW1 = grads['dW1']\n",
    "    db1 = grads['db1']\n",
    "    dW2 = grads['dW2']\n",
    "    db2 = grads['db2']\n",
    "  \n",
    "    \n",
    "    # Update rule for each parameter\n",
    "  \n",
    "    W1 = W1 - learning_rate*dW1\n",
    "    b1 = b1 - learning_rate*db1\n",
    "    W2 = W2 - learning_rate*dW2\n",
    "    b2 = b2 - learning_rate*db2\n",
    "  \n",
    "    \n",
    "    parameters = {\"W1\": W1,\n",
    "                  \"b1\": b1,\n",
    "                  \"W2\": W2,\n",
    "                  \"b2\": b2}\n",
    "    \n",
    "    return parameters"
   ]
  },
  {
   "cell_type": "code",
   "execution_count": 627,
   "metadata": {},
   "outputs": [
    {
     "name": "stdout",
     "output_type": "stream",
     "text": [
      "W1 = [[-4.16828766e-03 -5.64471646e-04 -2.13659448e-02  1.64330825e-02\n",
      "  -1.79343667e-02 -8.41747274e-03  5.02882894e-03 -1.24528730e-02\n",
      "  -1.05795429e-02 -9.09008490e-03  5.51456070e-03  2.29219093e-02\n",
      "   4.15543095e-04 -1.11727465e-02  5.39058213e-03 -5.96159796e-03\n",
      "  -1.91305642e-04  1.17500118e-02 -7.47871236e-03  9.02520854e-05\n",
      "  -8.78151123e-03 -1.56653067e-03  2.56361881e-03 -9.80701211e-03\n",
      "  -3.38823331e-03 -2.36183009e-03 -6.37652063e-03 -1.18761133e-02\n",
      "  -1.42121999e-02 -1.53496073e-03]\n",
      " [-2.69026938e-03  2.23144313e-02 -2.43459893e-02  1.11440662e-03\n",
      "   3.70444998e-03  1.35963382e-02  5.01856581e-03 -8.44214039e-03\n",
      "   1.06373315e-07  5.42352942e-03 -3.13509055e-03  7.71018969e-03\n",
      "  -1.86809697e-02  1.73090917e-02  1.46767806e-02 -3.35677298e-03\n",
      "   6.11340808e-03  4.79706091e-04 -8.29135167e-03  8.77102364e-04\n",
      "   1.00038419e-02 -3.80999852e-03 -3.75581129e-03 -7.78903555e-04\n",
      "   4.33496908e-03  1.27837880e-02 -6.34680554e-03  5.08395838e-03\n",
      "   2.16117175e-03 -1.85861201e-02]\n",
      " [-4.19338949e-03 -1.32386029e-03 -3.96964457e-04  3.26965684e-03\n",
      "  -2.04032339e-02  4.62555523e-04 -6.77675109e-03 -1.43943878e-02\n",
      "   5.24295775e-03  7.35279299e-03 -6.53249626e-03  8.42450870e-03\n",
      "  -3.81511756e-03  6.66951776e-04 -1.09873898e-02  1.58448703e-02\n",
      "  -2.65944948e-02 -9.14526358e-04  6.95119514e-03 -2.03346656e-02\n",
      "  -1.89482960e-03 -7.72880110e-04  8.24636931e-03  1.25077195e-02\n",
      "  -4.03892702e-03 -1.38451834e-02  1.36723636e-02  1.21788594e-02\n",
      "  -4.62006223e-03  3.50888216e-03]\n",
      " [ 3.81895661e-03  5.66350270e-03  2.04373283e-03  1.40543589e-02\n",
      "  -1.73795905e-02  1.04082392e-02  3.80471357e-03 -2.17135597e-03\n",
      "   1.17353236e-02 -2.34360283e-02  1.16152065e-02  3.86085136e-03\n",
      "  -1.13313946e-02  4.32822515e-03 -3.04086394e-03  2.58529491e-02\n",
      "   1.83533275e-02  4.40689889e-03 -7.19253722e-03 -5.83414577e-03\n",
      "  -3.25031691e-03 -5.60143677e-03 -9.02159524e-03 -5.94324085e-03\n",
      "  -2.76178926e-03 -5.16884318e-03 -6.98591174e-03 -9.28892321e-03\n",
      "   2.55043938e-02 -1.47317288e-02]]\n",
      "b1 = [[-1.38745339e-07]\n",
      " [ 5.87350918e-08]\n",
      " [-4.39539641e-08]\n",
      " [ 5.75708386e-08]]\n",
      "W2 = [[-0.01020999  0.00432321 -0.0033437   0.00423933]]\n",
      "b2 = [[1.35836438e-05]]\n"
     ]
    }
   ],
   "source": [
    "parameters = update_parameters(parameters, grads)\n",
    "\n",
    "print(\"W1 = \" + str(parameters[\"W1\"]))\n",
    "print(\"b1 = \" + str(parameters[\"b1\"]))\n",
    "print(\"W2 = \" + str(parameters[\"W2\"]))\n",
    "print(\"b2 = \" + str(parameters[\"b2\"]))"
   ]
  },
  {
   "cell_type": "markdown",
   "metadata": {},
   "source": [
    "## 5-5 - Neural Network Model ##"
   ]
  },
  {
   "cell_type": "code",
   "execution_count": 628,
   "metadata": {},
   "outputs": [],
   "source": [
    "# GRADED FUNCTION: nn_model\n",
    "\n",
    "def nn_model(X, Y, n_h, num_iterations = 10000, print_cost=False):\n",
    "    \"\"\"\n",
    "    Arguments:\n",
    "    X -- dataset of shape (2, number of examples)\n",
    "    Y -- labels of shape (1, number of examples)\n",
    "    n_h -- size of the hidden layer\n",
    "    num_iterations -- Number of iterations in gradient descent loop\n",
    "    print_cost -- if True, print the cost every 1000 iterations\n",
    "    \n",
    "    Returns:\n",
    "    parameters -- parameters learnt by the model. They can then be used to predict.\n",
    "    \"\"\"\n",
    "    \n",
    "    np.random.seed(3)\n",
    "    n_x = layer_sizes(X, Y)[0]\n",
    "    n_y = layer_sizes(X, Y)[2]\n",
    "   \n",
    "    \n",
    "    # Initialize parameters, then retrieve W1, b1, W2, b2. Inputs: \"n_x, n_h, n_y\". Outputs = \"W1, b1, W2, b2, parameters\".\n",
    "   \n",
    "    parameters = initialize_parameters(n_x, n_h, n_y)\n",
    "    W1 = parameters['W1']\n",
    "    b1 = parameters['b1']\n",
    "    W2 = parameters['W2']\n",
    "    b2 = parameters['b2']\n",
    "   \n",
    "    \n",
    "    # Loop (gradient descent)\n",
    "\n",
    "    for i in range(0, num_iterations):\n",
    "         \n",
    "   \n",
    "        # Forward propagation. Inputs: \"X, parameters\". Outputs: \"A2, cache\".\n",
    "        A2, cache = forward_propagation(X, parameters)\n",
    "        # Cost function. Inputs: \"A2, Y, parameters\". Outputs: \"cost\".\n",
    "        cost = compute_cost(A2, Y, parameters)\n",
    "        # Backpropagation. Inputs: \"parameters, cache, X, Y\". Outputs: \"grads\".\n",
    "        grads = backward_propagation(parameters, cache, X, Y)\n",
    "        # Gradient descent parameter update. Inputs: \"parameters, grads\". Outputs: \"parameters\".\n",
    "        parameters = update_parameters(parameters, grads, learning_rate = 0.0001)\n",
    "    \n",
    "        \n",
    "        # Print the cost every 1000 iterations\n",
    "        if print_cost and i % 1000 == 0:\n",
    "            print (\"Cost after iteration %i: %f\" %(i, cost))\n",
    "\n",
    "    return parameters"
   ]
  },
  {
   "cell_type": "code",
   "execution_count": 629,
   "metadata": {},
   "outputs": [
    {
     "name": "stdout",
     "output_type": "stream",
     "text": [
      "Cost after iteration 0: 0.689862\n",
      "Cost after iteration 1000: 0.560692\n",
      "Cost after iteration 2000: 0.339673\n",
      "Cost after iteration 3000: 0.261398\n",
      "Cost after iteration 4000: 0.234044\n",
      "Cost after iteration 5000: 0.222143\n",
      "Cost after iteration 6000: 0.216142\n",
      "Cost after iteration 7000: 0.212780\n",
      "Cost after iteration 8000: 0.210543\n",
      "Cost after iteration 9000: 0.208805\n",
      "W1 = [[-1.28595627e-02 -8.45504375e-03 -6.86001193e-02  6.72785719e-03\n",
      "  -1.80040516e-02 -8.29420440e-03  5.30653861e-03 -1.23386078e-02\n",
      "  -1.07160644e-02 -9.15214954e-03  5.43251061e-03  2.22111247e-02\n",
      "   7.47190829e-04  4.96431056e-03  5.38661986e-03 -5.92767546e-03\n",
      "  -1.43919217e-04  1.17597360e-02 -7.48905362e-03  9.10132189e-05\n",
      "  -1.79272991e-02 -9.36173032e-03 -4.16861871e-02  1.18600876e-02\n",
      "  -3.46420700e-03 -1.86682634e-03 -5.64312813e-03 -1.16891146e-02\n",
      "  -1.43415607e-02 -1.56590363e-03]\n",
      " [-1.48878936e-03  2.42336334e-02 -1.72514662e-02  7.66061591e-03\n",
      "   3.71630591e-03  1.35941909e-02  5.00203550e-03 -8.44946207e-03\n",
      "   2.27447187e-05  5.43283423e-03 -3.12676428e-03  7.86644208e-03\n",
      "  -1.86686892e-02  1.48690305e-02  1.46777278e-02 -3.35691268e-03\n",
      "   6.11270615e-03  4.79858150e-04 -8.28879729e-03  8.77410814e-04\n",
      "   1.11924195e-02 -1.45587280e-03  2.99657530e-03 -8.25348744e-03\n",
      "   4.34989590e-03  1.27668853e-02 -6.38348094e-03  5.07512733e-03\n",
      "   2.19110398e-03 -1.85773133e-02]\n",
      " [-3.32897155e-02 -2.98106276e-02 -1.59718738e-01 -3.39839236e-02\n",
      "  -2.06430010e-02  8.41022642e-04 -5.89471903e-03 -1.40302052e-02\n",
      "   4.77449681e-03  7.14219694e-03 -6.81013831e-03  5.91911117e-03\n",
      "  -2.86606766e-03  5.45834328e-02 -1.10015958e-02  1.59484620e-02\n",
      "  -2.64484434e-02 -8.85111011e-04  6.91408880e-03 -2.03330500e-02\n",
      "  -3.25638056e-02 -3.01745406e-02 -1.42623323e-01  7.42463167e-02\n",
      "  -4.30637144e-03 -1.23100262e-02  1.59788890e-02  1.27655640e-02\n",
      "  -5.08711361e-03  3.39305104e-03]\n",
      " [ 3.42749754e-02  3.30333807e-02  1.67343668e-01  4.67374760e-02\n",
      "  -1.71361565e-02  9.97092346e-03  2.82328675e-03 -2.57484549e-03\n",
      "   1.22124844e-02 -2.32187293e-02  1.19073333e-02  6.32406311e-03\n",
      "  -1.25025187e-02 -5.17640807e-02 -3.02717129e-03  2.57322572e-02\n",
      "   1.81848084e-02  4.37219201e-03 -7.15689263e-03 -5.83697816e-03\n",
      "   2.89291399e-02  2.13405163e-02  1.46450095e-01 -6.50406550e-02\n",
      "  -2.49671351e-03 -6.92042978e-03 -9.57825346e-03 -9.94977579e-03\n",
      "   2.59542880e-02 -1.46246344e-02]]\n",
      "b1 = [[-0.00124185]\n",
      " [ 0.00015819]\n",
      " [-0.00414117]\n",
      " [ 0.00435672]]\n",
      "W2 = [[-0.06806248  0.00211911 -0.20273923  0.24704861]]\n",
      "b2 = [[0.04472303]]\n"
     ]
    }
   ],
   "source": [
    "parameters = nn_model(x_data, y_data, 4, num_iterations=10000, print_cost=True)\n",
    "print(\"W1 = \" + str(parameters[\"W1\"]))\n",
    "print(\"b1 = \" + str(parameters[\"b1\"]))\n",
    "print(\"W2 = \" + str(parameters[\"W2\"]))\n",
    "print(\"b2 = \" + str(parameters[\"b2\"]))"
   ]
  },
  {
   "cell_type": "markdown",
   "metadata": {},
   "source": [
    "## 6 - Predict the results ##"
   ]
  },
  {
   "cell_type": "code",
   "execution_count": 630,
   "metadata": {},
   "outputs": [],
   "source": [
    "# GRADED FUNCTION: predict\n",
    "\n",
    "def predict(parameters, X):\n",
    "    \"\"\"\n",
    "    Using the learned parameters, predicts a class for each example in X\n",
    "    \n",
    "    Arguments:\n",
    "    parameters -- python dictionary containing your parameters \n",
    "    X -- input data of size (n_x, m)\n",
    "    \n",
    "    Returns\n",
    "    predictions -- vector of predictions of our model (red: 0 / blue: 1)\n",
    "    \"\"\"\n",
    "    \n",
    "    # Computes probabilities using forward propagation, and classifies to 0/1 using 0.5 as the threshold.\n",
    "    \n",
    "    A2, cache = forward_propagation(X, parameters)\n",
    "    predictions = np.array([0 if A2[0][i]<0.5 else 1 for i in range(A2.shape[1])])\n",
    "    \n",
    "    \n",
    "    return predictions"
   ]
  },
  {
   "cell_type": "code",
   "execution_count": 631,
   "metadata": {},
   "outputs": [
    {
     "name": "stdout",
     "output_type": "stream",
     "text": [
      "predictions mean = 0.6590509666080844\n"
     ]
    }
   ],
   "source": [
    "predictions = predict(parameters, x_data)\n",
    "print(\"predictions mean = \" + str(np.mean(predictions)))"
   ]
  },
  {
   "cell_type": "code",
   "execution_count": 632,
   "metadata": {},
   "outputs": [
    {
     "name": "stdout",
     "output_type": "stream",
     "text": [
      "Cost after iteration 0: 0.689862\n",
      "Cost after iteration 1000: 0.560692\n",
      "Cost after iteration 2000: 0.339673\n",
      "Cost after iteration 3000: 0.261398\n",
      "Cost after iteration 4000: 0.234044\n",
      "Cost after iteration 5000: 0.222143\n",
      "Cost after iteration 6000: 0.216142\n",
      "Cost after iteration 7000: 0.212780\n",
      "Cost after iteration 8000: 0.210543\n",
      "Cost after iteration 9000: 0.208805\n"
     ]
    }
   ],
   "source": [
    "# Build a model with a n_h-dimensional hidden layer\n",
    "parameters = nn_model(x_data, y_data, n_h = 4, num_iterations = 10000, print_cost=True)"
   ]
  },
  {
   "cell_type": "code",
   "execution_count": 633,
   "metadata": {},
   "outputs": [
    {
     "name": "stdout",
     "output_type": "stream",
     "text": [
      "Accuracy: 92%\n"
     ]
    }
   ],
   "source": [
    "# Print accuracy\n",
    "predictions = predict(parameters, x_data)\n",
    "print ('Accuracy: %d' % float((np.dot(y_data,predictions.T) + np.dot(1-y_data,1-predictions.T))/float(y_data.size)*100) + '%')"
   ]
  },
  {
   "cell_type": "code",
   "execution_count": 634,
   "metadata": {},
   "outputs": [
    {
     "name": "stdout",
     "output_type": "stream",
     "text": [
      "Accuracy for 1 hidden units: 74.86818980667839 %\n",
      "Accuracy for 2 hidden units: 74.86818980667839 %\n",
      "Accuracy for 3 hidden units: 85.41300527240774 %\n",
      "Accuracy for 4 hidden units: 91.91564147627417 %\n",
      "Accuracy for 5 hidden units: 91.56414762741653 %\n",
      "Accuracy for 20 hidden units: 92.09138840070298 %\n",
      "Accuracy for 50 hidden units: 92.09138840070298 %\n"
     ]
    }
   ],
   "source": [
    "# This may take about 2 minutes to run\n",
    "\n",
    "hidden_layer_sizes = [1, 2, 3, 4, 5, 20, 50]\n",
    "for i, n_h in enumerate(hidden_layer_sizes):\n",
    "    parameters = nn_model(x_data, y_data, n_h, num_iterations = 5000)\n",
    "    predictions = predict(parameters, x_data)\n",
    "    accuracy = float((np.dot(y_data,predictions.T) + np.dot(1-y_data,1-predictions.T))/float(y_data.size)*100)\n",
    "    print (\"Accuracy for {} hidden units: {} %\".format(n_h, accuracy))"
   ]
  },
  {
   "cell_type": "code",
   "execution_count": null,
   "metadata": {},
   "outputs": [],
   "source": []
  }
 ],
 "metadata": {
  "kernelspec": {
   "display_name": "Python 3",
   "language": "python",
   "name": "python3"
  },
  "language_info": {
   "codemirror_mode": {
    "name": "ipython",
    "version": 3
   },
   "file_extension": ".py",
   "mimetype": "text/x-python",
   "name": "python",
   "nbconvert_exporter": "python",
   "pygments_lexer": "ipython3",
   "version": "3.7.6"
  }
 },
 "nbformat": 4,
 "nbformat_minor": 4
}
